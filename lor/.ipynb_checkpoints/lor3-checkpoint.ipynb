{
 "cells": [
  {
   "cell_type": "code",
   "execution_count": 1,
   "id": "de5d1f78",
   "metadata": {},
   "outputs": [],
   "source": [
    "import numpy as np\n",
    "import pandas as pd\n",
    "import matplotlib.pyplot as plt"
   ]
  },
  {
   "cell_type": "code",
   "execution_count": 2,
   "id": "79767066",
   "metadata": {},
   "outputs": [
    {
     "data": {
      "image/png": "[encoded data removed]",
      "text/plain": [
       "<Figure size 432x288 with 1 Axes>"
      ]
     },
     "metadata": {
      "needs_background": "light"
     },
     "output_type": "display_data"
    },
    {
     "data": {
      "image/png": "[encoded data removed]",
      "text/plain": [
       "<Figure size 432x288 with 1 Axes>"
      ]
     },
     "metadata": {
      "needs_background": "light"
     },
     "output_type": "display_data"
    },
    {
     "data": {
      "image/png": "[encoded data removed]",
      "text/plain": [
       "<Figure size 432x288 with 1 Axes>"
      ]
     },
     "metadata": {
      "needs_background": "light"
     },
     "output_type": "display_data"
    },
    {
     "name": "stdout",
     "output_type": "stream",
     "text": [
      "Final Weight(theta): [[-0.76206578  1.03893833  0.69492672]]\n",
      "y = 1.04*x1 + 0.69*x2 + -0.8\n",
      "Test Accuracy: 0.733766\n",
      "==================================================\n",
      "Final Weight(theta): [[0.33334784 2.83453468 1.13225484]]\n",
      "y = 2.83*x1 + 1.13*x2 + 0.3\n",
      "Test Accuracy: 0.688312\n",
      "==================================================\n",
      "Final Weight(theta): [[-0.82793802  1.07166435  0.70265444]]\n",
      "y = 1.07*x1 + 0.70*x2 + -0.8\n",
      "Test Accuracy: 0.733766\n"
     ]
    }
   ],
   "source": [
    "def get_data():\n",
    "    file_name = './lor3.csv'\n",
    "    df = pd.read_csv(file_name)\n",
    "    x = np.array(df[['Glucose','BMI']])\n",
    "    y = np.array(df.Outcome).reshape(-1,1)\n",
    "    return x, y\n",
    "\n",
    "def data_normalize(data):\n",
    "    mean_num = np.mean(data, axis=0)\n",
    "    mu = np.std(data, axis=0)\n",
    "    data = (data - mean_num)/mu\n",
    "\n",
    "    return data\n",
    "\n",
    "def sigmoid(z):\n",
    "    result = 1/(1+np.exp(-z))\n",
    "    return result\n",
    "\n",
    "def cost_fuc(theta, x, y):\n",
    "    m = x.shape[0]\n",
    "    h_x = sigmoid(np.matmul(x, theta))\n",
    "\n",
    "    cost = -1/m * sum(y*np.log(h_x) + (1-y)*np.log(1-h_x))\n",
    "    grad = 1/m * sum((h_x - y) * x).reshape(-1,1)\n",
    "\n",
    "    return cost,grad\n",
    "\n",
    "def gradient_decent(x, y, theta, rate=0.01, steps=5000, plot = False):\n",
    "    theta_iter = []\n",
    "\n",
    "    for i in range(steps):\n",
    "        #print(f\"training{i}.........\")\n",
    "        cost, grad = cost_fuc(theta, x, y)\n",
    "        theta = theta - rate * grad\n",
    "\n",
    "        # theta_iter for plot\n",
    "        theta_iter.append(theta)\n",
    "\n",
    "    if plot:\n",
    "        plot_acc(x, y, theta_iter, train=True)\n",
    "\n",
    "    return theta\n",
    "\n",
    "def plot_acc(x, y, theta_list, train=False):\n",
    "    m = x.shape[0]\n",
    "    acc_val = np.array([])\n",
    "\n",
    "    for theta in theta_list:\n",
    "        h_x = sigmoid(np.matmul(x, theta))\n",
    "        h_x[h_x>=0.5], h_x[h_x<0.5] = 1,0\n",
    "        acc = sum(h_x==y)/m\n",
    "\n",
    "        acc_val = np.append(acc_val, acc)\n",
    "    \n",
    "    if train:\n",
    "        plot_x = np.array(range(len(theta_list)))\n",
    "        plt.plot(plot_x, acc_val)\n",
    "        plt.xlabel(\"Iteration\")\n",
    "        plt.ylabel(\"Training Accuracy\")\n",
    "        plt.ylim([0,1])\n",
    "        plt.show()\n",
    "    else:\n",
    "        print(\"Test Accuracy: %f\"%acc)\n",
    "\n",
    "   \n",
    "def main():\n",
    "\n",
    "    # Prepare dataset\n",
    "    x, y = get_data()\n",
    "    x = data_normalize(x)\n",
    "    x = np.c_[np.ones(x.shape[0]), x]\n",
    "    theta_1 = np.ones((x.shape[1],1))\n",
    "    theta_2 = np.random.randint(0,10,(x.shape[1],1))\n",
    "    \n",
    "    # Seprate Training and Test set\n",
    "    train_num = int(0.8*x.shape[0])\n",
    "    x_train = x[:train_num]\n",
    "    x_test = x[train_num:]\n",
    "    \n",
    "    y_train = y[:train_num]\n",
    "    y_test = y[train_num:]\n",
    "\n",
    "\n",
    "    # Gradient_Decent ----- Try three different parameters\n",
    "    result_1 = gradient_decent(x_train, y_train, theta_1, 0.01, 2000, True)\n",
    "    result_2 = gradient_decent(x_train, y_train, theta_2, 0.01, 2000, True)\n",
    "    result_3 = gradient_decent(x_train, y_train, theta_2, 0.02, 5000, True)\n",
    "    \n",
    "    \n",
    "    # Test and Result \n",
    "    print(\"Final Weight(theta): \",end='')\n",
    "    print(result_1.reshape(1,-1))\n",
    "    print(\"y = %.2f*x1 + %.2f*x2 + %.1f\"%(result_1[1],result_1[2],result_1[0]))\n",
    "    plot_acc(x_test, y_test, np.array([result_1]))\n",
    "    print(\"=\"*50)\n",
    "    \n",
    "    print(\"Final Weight(theta): \",end='')\n",
    "    print(result_2.reshape(1,-1))\n",
    "    print(\"y = %.2f*x1 + %.2f*x2 + %.1f\"%(result_2[1],result_2[2],result_2[0]))\n",
    "    plot_acc(x_test, y_test, np.array([result_2]))\n",
    "    print(\"=\"*50)\n",
    "    \n",
    "    print(\"Final Weight(theta): \",end='')\n",
    "    print(result_3.reshape(1,-1))\n",
    "    print(\"y = %.2f*x1 + %.2f*x2 + %.1f\"%(result_3[1],result_3[2],result_3[0]))\n",
    "    plot_acc(x_test, y_test, np.array([result_3]))\n",
    "    \n",
    "\n",
    "if __name__ == \"__main__\":\n",
    "    main()\n"
   ]
  },
  {
   "cell_type": "code",
   "execution_count": null,
   "id": "27481284",
   "metadata": {},
   "outputs": [],
   "source": []
  },
  {
   "cell_type": "code",
   "execution_count": null,
   "id": "bbdc510a",
   "metadata": {},
   "outputs": [],
   "source": []
  }
 ],
 "metadata": {
  "kernelspec": {
   "display_name": "Python 3 (ipykernel)",
   "language": "python",
   "name": "python3"
  },
  "language_info": {
   "codemirror_mode": {
    "name": "ipython",
    "version": 3
   },
   "file_extension": ".py",
   "mimetype": "text/x-python",
   "name": "python",
   "nbconvert_exporter": "python",
   "pygments_lexer": "ipython3",
   "version": "3.9.12"
  }
 },
 "nbformat": 4,
 "nbformat_minor": 5
}
