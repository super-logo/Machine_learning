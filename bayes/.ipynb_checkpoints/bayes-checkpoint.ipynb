{
 "cells": [
  {
   "cell_type": "code",
   "execution_count": 1,
   "id": "4ba1c026",
   "metadata": {},
   "outputs": [],
   "source": [
    "import numpy as np\n",
    "import pandas as pd\n",
    "import matplotlib.pyplot as plt"
   ]
  },
  {
   "cell_type": "code",
   "execution_count": 67,
   "id": "9e92a6c1",
   "metadata": {},
   "outputs": [
    {
     "name": "stdout",
     "output_type": "stream",
     "text": [
      "Model Accuracy: 0.733766\n"
     ]
    }
   ],
   "source": [
    "def get_data():\n",
    "    df = pd.read_csv(\"data.csv\")\n",
    "    x = np.array(df[[\"Glucose\", \"BMI\"]])\n",
    "    y = np.array(df.Outcome).reshape(-1,1)\n",
    "    return x,y\n",
    "\n",
    "def data_normalize(data):\n",
    "    mean = np.mean(data, axis=0)\n",
    "    std = np.std(data, axis=0)\n",
    "    result = (data-mean)/std\n",
    "    return result\n",
    "\n",
    "def Gaussian_dis(c, x_test): \n",
    "    mu = np.mean(c, axis=0)\n",
    "    var = np.std(c, axis=0)\n",
    "    pr = 1/np.sqrt(2*np.pi*var) * np.exp(-np.square(x_test-mu)/(2*var))\n",
    "    return pr\n",
    "\n",
    "def bayes_model(x_train, x_test, y_train, y_test):\n",
    "    \n",
    "    m,n = x_train.shape[0],x_train.shape[1]\n",
    "    shadow = np.c_[(y_train==1),(y_train==1)]\n",
    "    c1 = x_train[shadow].reshape(-1, n)\n",
    "    c2 = x_train[~shadow].reshape(-1, n)\n",
    "    \n",
    "    pr_xc1 = Gaussian_dis(c1, x_test)\n",
    "    pr_xc2 = Gaussian_dis(c2, x_test)\n",
    "\n",
    "    p1 = np.sum(y_train)/m\n",
    "    p2 = 1 - p1\n",
    "    \n",
    "    pc1 = pr_xc1[:,0]*pr_xc1[:,1]*p1\n",
    "    pc2 = pr_xc2[:,0]*pr_xc2[:,1]*p2\n",
    "    result = (pc1>pc2).astype(int)\n",
    "    y_test = y_test.reshape(1,-1)\n",
    "    acc = np.sum(y_test==result)/y_test.shape[1]\n",
    "    print(\"Model Accuracy: %f\"%acc)\n",
    "    \n",
    "\n",
    "def main():\n",
    "    # Data init\n",
    "    x,y = get_data()\n",
    "    x = data_normalize(x)\n",
    "    \n",
    "    # Separate training and test set\n",
    "    train_num = int(0.8*x.shape[0])\n",
    "    x_train = x[:train_num]\n",
    "    x_test = x[train_num:]\n",
    "    y_train = y[:train_num]\n",
    "    y_test = y[train_num:]\n",
    "    \n",
    "    # Choose model distribution\n",
    "    bayes_model(x_train, x_test, y_train, y_test)\n",
    "    \n",
    "    \n",
    "    \n",
    "if __name__ == \"__main__\":\n",
    "    main()"
   ]
  },
  {
   "cell_type": "code",
   "execution_count": null,
   "id": "12d8565a",
   "metadata": {},
   "outputs": [],
   "source": []
  }
 ],
 "metadata": {
  "kernelspec": {
   "display_name": "Python 3 (ipykernel)",
   "language": "python",
   "name": "python3"
  },
  "language_info": {
   "codemirror_mode": {
    "name": "ipython",
    "version": 3
   },
   "file_extension": ".py",
   "mimetype": "text/x-python",
   "name": "python",
   "nbconvert_exporter": "python",
   "pygments_lexer": "ipython3",
   "version": "3.9.12"
  }
 },
 "nbformat": 4,
 "nbformat_minor": 5
}
